{
 "cells": [
  {
   "cell_type": "markdown",
   "id": "resistant-formation",
   "metadata": {},
   "source": [
    "# Step 2 ..."
   ]
  },
  {
   "cell_type": "markdown",
   "id": "piano-correspondence",
   "metadata": {},
   "source": [
    "# Excel Manage\n",
    "# 11/04/2564\n",
    "# Filter and Save "
   ]
  },
  {
   "cell_type": "markdown",
   "id": "broke-assist",
   "metadata": {},
   "source": [
    "## 16 input && 2 output\n",
    "## 28x24 dataset\n",
    "## All major"
   ]
  },
  {
   "cell_type": "code",
   "execution_count": null,
   "id": "wooden-borough",
   "metadata": {},
   "outputs": [],
   "source": [
    "import openpyxl\n",
    "import pandas as pd"
   ]
  },
  {
   "cell_type": "code",
   "execution_count": null,
   "id": "hydraulic-screw",
   "metadata": {},
   "outputs": [],
   "source": [
    "## File name and Path\n",
    "\n",
    "# file_name = 'New_Mixure_major_2562'\n",
    "# file_name = 'New_Mixure_major_2563'\n",
    "file_name = 'New_Mixure_major_2563_+_2562'\n",
    "\n",
    "path_adress = \".\\\\งานวิจัย_นิติวิทยาศาสตร์\\\\DNA_Data\\\\\"\n",
    "dataset_path = path_adress + file_name + '.xlsx'"
   ]
  },
  {
   "cell_type": "code",
   "execution_count": null,
   "id": "different-flesh",
   "metadata": {},
   "outputs": [],
   "source": [
    "## Save file Name and Path\n",
    "\n",
    "# file_name_save = 'Filted_Mixure_major_2562'\n",
    "# file_name_save = 'Filted_Mixure_major_2563'\n",
    "file_name_save = 'Filted_Mixure_major_2563_+_2562'\n",
    "\n",
    "path_adress_save = \".\\\\งานวิจัย_นิติวิทยาศาสตร์\\\\DNA_Data\\\\\"\n",
    "dataset_path_save = path_adress_save + file_name_save + '.xlsx'"
   ]
  },
  {
   "cell_type": "code",
   "execution_count": null,
   "id": "caring-nicaragua",
   "metadata": {},
   "outputs": [],
   "source": [
    "## Major Marker\n",
    "columns_major_marker = ['Sample_Name', 'Marker']\n",
    "\n",
    "## Input\n",
    "columns_input = ['Allele_1', 'Allele_2', 'Allele_3', 'Allele_4',\n",
    "                 'Allele_5', 'Allele_6', 'Allele_7', 'Allele_8',\n",
    "                 'Height_1', 'Height_2', 'Height_3', 'Height_4',\n",
    "                 'Height_5', 'Height_6', 'Height_7', 'Height_8']\n",
    "## Output\n",
    "columns_output = ['Out_1', 'Out_2']\n",
    "\n",
    "# print(len(columns_input))\n",
    "# print(len(columns_output))"
   ]
  },
  {
   "cell_type": "code",
   "execution_count": null,
   "id": "established-bridge",
   "metadata": {},
   "outputs": [],
   "source": [
    "header_name = columns_major_marker + columns_input + columns_output\n",
    "print(header_name)"
   ]
  },
  {
   "cell_type": "code",
   "execution_count": null,
   "id": "developing-basement",
   "metadata": {},
   "outputs": [],
   "source": [
    "theFile = openpyxl.load_workbook(dataset_path)\n",
    "allSheetNames = theFile.sheetnames\n",
    "\n",
    "print(\"All sheet names {} \" .format(theFile.sheetnames))"
   ]
  },
  {
   "cell_type": "code",
   "execution_count": null,
   "id": "usual-buffalo",
   "metadata": {
    "scrolled": false
   },
   "outputs": [],
   "source": [
    "sheet_n = 'Sheet2'\n",
    "\n",
    "cols = 'a:t'\n",
    "df = pd.read_excel(dataset_path, sheet_name=sheet_n, header=None,\n",
    "                       skiprows=[0,0], usecols=cols, names=header_name)\n",
    "\n",
    "df.head()\n",
    "# df.head()\n",
    "# df.tail()"
   ]
  },
  {
   "cell_type": "code",
   "execution_count": null,
   "id": "hidden-friendly",
   "metadata": {},
   "outputs": [],
   "source": [
    "print(len(df))"
   ]
  },
  {
   "cell_type": "code",
   "execution_count": null,
   "id": "signed-metropolitan",
   "metadata": {},
   "outputs": [],
   "source": [
    "## ค้นหา rows ที่เป็นช่องว่างใน column Out_1\n",
    "rows = df.index[pd.isnull(df['Out_1'])].tolist()\n",
    "# rows\n",
    "\n",
    "## ลบแถวนั้นออก\n",
    "df.drop(rows, axis=0, inplace=True)\n",
    "print(len(df))"
   ]
  },
  {
   "cell_type": "code",
   "execution_count": null,
   "id": "negative-lyric",
   "metadata": {},
   "outputs": [],
   "source": [
    "## ค้นหา rows ที่เป็นช่องว่างใน column Out_2\n",
    "rows = df.index[pd.isnull(df['Out_2'])].tolist()\n",
    "# rows\n",
    "\n",
    "## ลบแถวนั้นออก\n",
    "df.drop(rows, axis=0, inplace=True)\n",
    "print(len(df))"
   ]
  },
  {
   "cell_type": "code",
   "execution_count": null,
   "id": "available-store",
   "metadata": {},
   "outputs": [],
   "source": [
    "## ค้นหา rows ที่มีเครื่องหมาย * ใน column Out_2\n",
    "rows = df.index[df['Out_2'] == '*'].tolist()\n",
    "# rows\n",
    "\n",
    "## ลบแถวนั้นออก\n",
    "df.drop(rows, axis=0, inplace=True)\n",
    "print(len(df))"
   ]
  },
  {
   "cell_type": "code",
   "execution_count": null,
   "id": "static-habitat",
   "metadata": {},
   "outputs": [],
   "source": [
    "## ค้นหา rows ที่มีเครื่องหมาย ? ใน column Out_2\n",
    "rows = df.index[df['Out_2'] == '?'].tolist()\n",
    "# rows\n",
    "\n",
    "## ลบแถวนั้นออก\n",
    "df.drop(rows, axis=0, inplace=True)\n",
    "print(len(df))"
   ]
  },
  {
   "cell_type": "code",
   "execution_count": null,
   "id": "passive-republican",
   "metadata": {},
   "outputs": [],
   "source": [
    "## Save exel file\n",
    "writer = pd.ExcelWriter(dataset_path_save)\n",
    "df.to_excel(writer, 'Sheet1', index=False, startcol=0)\n",
    "writer.save()"
   ]
  },
  {
   "cell_type": "markdown",
   "id": "stupid-clause",
   "metadata": {},
   "source": [
    "# Test Area"
   ]
  },
  {
   "cell_type": "code",
   "execution_count": null,
   "id": "hourly-referral",
   "metadata": {},
   "outputs": [],
   "source": [
    "#df[24:25]"
   ]
  },
  {
   "cell_type": "code",
   "execution_count": null,
   "id": "outdoor-stream",
   "metadata": {},
   "outputs": [],
   "source": [
    "#rows = []\n",
    "#for l in range(24,2424,25):    \n",
    "#    rows.append(l)\n",
    "#print(rows)"
   ]
  },
  {
   "cell_type": "code",
   "execution_count": null,
   "id": "stuffed-capitol",
   "metadata": {},
   "outputs": [],
   "source": [
    "#len(rows)"
   ]
  },
  {
   "cell_type": "code",
   "execution_count": null,
   "id": "stable-disability",
   "metadata": {},
   "outputs": [],
   "source": [
    "#rows = 49\n",
    "#df.drop(rows, axis=0, inplace=True)"
   ]
  },
  {
   "cell_type": "code",
   "execution_count": null,
   "id": "favorite-enzyme",
   "metadata": {},
   "outputs": [],
   "source": [
    "#print(len(df))"
   ]
  },
  {
   "cell_type": "code",
   "execution_count": null,
   "id": "political-meter",
   "metadata": {
    "scrolled": true
   },
   "outputs": [],
   "source": [
    "#df[2300:2328]"
   ]
  },
  {
   "cell_type": "code",
   "execution_count": null,
   "id": "human-portal",
   "metadata": {
    "scrolled": true
   },
   "outputs": [],
   "source": [
    "#df_all[2100:2150]"
   ]
  },
  {
   "cell_type": "code",
   "execution_count": null,
   "id": "other-thumb",
   "metadata": {
    "scrolled": true
   },
   "outputs": [],
   "source": [
    "#df[1950:1980]"
   ]
  },
  {
   "cell_type": "code",
   "execution_count": null,
   "id": "regular-steps",
   "metadata": {},
   "outputs": [],
   "source": [
    "# df.index[df['Out_1'] == '*'].tolist()"
   ]
  },
  {
   "cell_type": "code",
   "execution_count": null,
   "id": "unsigned-result",
   "metadata": {
    "scrolled": true
   },
   "outputs": [],
   "source": [
    "#df[1600:1640]"
   ]
  }
 ],
 "metadata": {
  "kernelspec": {
   "display_name": "DNAandBone-Project-DNN",
   "language": "python",
   "name": "dbenv"
  },
  "language_info": {
   "codemirror_mode": {
    "name": "ipython",
    "version": 3
   },
   "file_extension": ".py",
   "mimetype": "text/x-python",
   "name": "python",
   "nbconvert_exporter": "python",
   "pygments_lexer": "ipython3",
   "version": "3.8.8"
  }
 },
 "nbformat": 4,
 "nbformat_minor": 5
}
